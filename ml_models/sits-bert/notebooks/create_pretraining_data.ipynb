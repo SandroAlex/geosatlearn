{
 "cells": [
  {
   "cell_type": "markdown",
   "id": "7aa1d8e2",
   "metadata": {},
   "source": [
    "# Create Artificial Pretraining Data for Testing Purposes"
   ]
  },
  {
   "cell_type": "markdown",
   "id": "3cdc27ce",
   "metadata": {},
   "source": [
    "* Main ideas:\n",
    "    1. Read the largest data sample from california labeled samples (`/geosatlearn_app/ml_models/sits-bert/datafiles/california-labeled/Test.csv`);  \n",
    "    2. Eliminate the labels from this sample in order to be used as pretraining dataset;\n",
    "    3. Save processed data results in a new folder (`/geosatlearn_app/ml_models/sits-bert/datafiles/california-excluded-labels/Test.csv`) to be used in pretraining experiments;"
   ]
  },
  {
   "cell_type": "markdown",
   "id": "1f6e463c",
   "metadata": {},
   "source": [
    "## Initial Setup"
   ]
  },
  {
   "cell_type": "code",
   "execution_count": null,
   "id": "37c66751",
   "metadata": {},
   "outputs": [],
   "source": [
    "# Import packages.\n",
    "import os\n",
    "\n",
    "import numpy as np\n",
    "\n",
    "import matplotlib.pyplot as plt\n",
    "\n",
    "from tqdm.auto import tqdm"
   ]
  },
  {
   "cell_type": "markdown",
   "id": "0730573a",
   "metadata": {},
   "source": [
    "## Read from Labeled Dataset"
   ]
  },
  {
   "cell_type": "code",
   "execution_count": 2,
   "id": "ab1f6660",
   "metadata": {},
   "outputs": [
    {
     "name": "stdout",
     "output_type": "stream",
     "text": [
      ">>> Loading data successful ... 318588 lines read.\n"
     ]
    }
   ],
   "source": [
    "file_path = \"/geosatlearn_app/ml_models/sits-bert/datafiles/california-labeled/Test.csv\"\n",
    "\n",
    "# Read into memory.\n",
    "with open(file_path, \"r\") as ifile:\n",
    "    data: list[str] = ifile.readlines()\n",
    "    ts_num: list[str] = len(data)\n",
    "    print(f\">>> Loading data successful ... {ts_num} lines read.\")"
   ]
  },
  {
   "cell_type": "markdown",
   "id": "8189eb4b",
   "metadata": {},
   "source": [
    "## Drop Labels From Dataset"
   ]
  },
  {
   "cell_type": "code",
   "execution_count": 3,
   "id": "60388026",
   "metadata": {},
   "outputs": [
    {
     "name": "stderr",
     "output_type": "stream",
     "text": [
      "Processing data ...:   1%|█                                                                                                                | 3170/318588 [00:00<00:09, 31689.15it/s]"
     ]
    },
    {
     "name": "stderr",
     "output_type": "stream",
     "text": [
      "Processing data ...: 100%|███████████████████████████████████████████████████████████████████████████████████████████████████████████████| 318588/318588 [00:09<00:00, 32769.45it/s]\n"
     ]
    }
   ],
   "source": [
    "# All processed lines will be stored here.\n",
    "processed_data: list[str] = []\n",
    "\n",
    "# Loop over all the instances in the data.\n",
    "ts_sizes: list[int] = []\n",
    "for line in tqdm(data, desc=\"Processing data ...\"):\n",
    "\n",
    "    # Remove `\\n` from the end of the line.\n",
    "    line_processed: str = line.strip()\n",
    "\n",
    "    # Eliminate class label from the line.\n",
    "    line_processed_list: list[str] = line_processed.split(\",\")[:-1]\n",
    "\n",
    "    # Join the line back together.\n",
    "    line_processed: str = \",\".join(line_processed_list)\n",
    "\n",
    "    # Number of timesteps in the line (10 bands + 1 doy).\n",
    "    ts_num: int = len(line_processed_list) / 11\n",
    "\n",
    "    # Append the number of timesteps to the list.\n",
    "    ts_sizes.append(int(ts_num))\n",
    "\n",
    "    # Fill the processed data list.\\\n",
    "    processed_data.append(line_processed)\n",
    "\n",
    "# Save as numpy array.\n",
    "ts_sizes: np.array = np.array(ts_sizes)"
   ]
  },
  {
   "cell_type": "code",
   "execution_count": 4,
   "id": "ac113203",
   "metadata": {},
   "outputs": [
    {
     "data": {
      "image/png": "[encoded data removed]",
      "text/plain": [
       "<Figure size 640x480 with 1 Axes>"
      ]
     },
     "metadata": {},
     "output_type": "display_data"
    }
   ],
   "source": [
    "# Plot histogram of the number of timesteps.\n",
    "\n",
    "plt.hist(ts_sizes, bins=50)\n",
    "plt.xlabel(\"Number of timesteps\")\n",
    "plt.ylabel(\"Frequency\")\n",
    "plt.ylim(1, 110000)\n",
    "plt.yscale(\"log\")\n",
    "plt.title(\"Histogram of Number of Timesteps in Time Series\");"
   ]
  },
  {
   "cell_type": "code",
   "execution_count": 5,
   "id": "94d3b1cb",
   "metadata": {},
   "outputs": [
    {
     "name": "stdout",
     "output_type": "stream",
     "text": [
      ">>> Minimum number of timesteps: 3\n",
      ">>> Maximum number of timesteps: 45\n",
      ">>> Mean number of timesteps: 42.703488518086054\n",
      ">>> Median number of timesteps: 44.0\n"
     ]
    }
   ],
   "source": [
    "# Minimum and maximum number of timesteps. Also Mean and median.\n",
    "print(f\">>> Minimum number of timesteps: {ts_sizes.min()}\")\n",
    "print(f\">>> Maximum number of timesteps: {ts_sizes.max()}\")\n",
    "print(f\">>> Mean number of timesteps: {ts_sizes.mean()}\")\n",
    "print(f\">>> Median number of timesteps: {np.median(ts_sizes)}\")"
   ]
  },
  {
   "cell_type": "markdown",
   "id": "3dfe2661",
   "metadata": {},
   "source": [
    "## Save Final Results"
   ]
  },
  {
   "cell_type": "code",
   "execution_count": 6,
   "id": "63edcfa1",
   "metadata": {},
   "outputs": [
    {
     "name": "stderr",
     "output_type": "stream",
     "text": [
      "Saving processed data ...: 100%|████████████████████████████████████████████████████████████████████████████████████████████████████████| 318588/318588 [00:00<00:00, 324536.08it/s]\n"
     ]
    },
    {
     "name": "stdout",
     "output_type": "stream",
     "text": [
      ">>> Processed data saved to /geosatlearn_app/ml_models/sits-bert/datafiles/california-excluded-labels/Test.csv.\n",
      ">>> Total number of processed lines: 318588\n"
     ]
    }
   ],
   "source": [
    "# Output file path.\n",
    "output_file_path = (\n",
    "    \"/geosatlearn_app/ml_models/sits-bert/datafiles/california-excluded-labels/Test.csv\"\n",
    ")\n",
    "\n",
    "# Create the output directory if it does not exist.\n",
    "output_dir = os.path.dirname(output_file_path)\n",
    "if not os.path.exists(output_dir):\n",
    "    os.makedirs(output_dir)\n",
    "    print(f\">>> Created output directory: {output_dir}\")\n",
    "\n",
    "# Save results to a new csv file.\n",
    "with open(output_file_path, \"w\") as ofile:\n",
    "    for line in tqdm(processed_data, desc=\"Saving processed data ...\"):\n",
    "        ofile.write(f\"{line}\\n\")\n",
    "\n",
    "# Show the output file path.\n",
    "print(f\">>> Processed data saved to {output_file_path}.\")\n",
    "\n",
    "# Print the number of processed lines.\n",
    "print(f\">>> Total number of processed lines: {len(processed_data)}\")"
   ]
  }
 ],
 "metadata": {
  "kernelspec": {
   "display_name": "Python 3 (ipykernel)",
   "language": "python",
   "name": "python3"
  },
  "language_info": {
   "codemirror_mode": {
    "name": "ipython",
    "version": 3
   },
   "file_extension": ".py",
   "mimetype": "text/x-python",
   "name": "python",
   "nbconvert_exporter": "python",
   "pygments_lexer": "ipython3",
   "version": "3.12.0"
  }
 },
 "nbformat": 4,
 "nbformat_minor": 5
}
