{
 "cells": [
  {
   "cell_type": "markdown",
   "id": "7aa1d8e2",
   "metadata": {},
   "source": [
    "# Create Artificial Pretraining Data for Testing Purposes"
   ]
  },
  {
   "cell_type": "markdown",
   "id": "3cdc27ce",
   "metadata": {},
   "source": [
    "* The pipeline in this notebook is the following:\n",
    "    1. Read the largest data sample from california labeled samples (`/geosatlearn_app/ml_models/sits-bert/datafiles/california-labeled/Test.csv`);  \n",
    "    2. Eliminate the labels from this sample in order to be used as pretraining dataset;\n",
    "    3. Save processed data results in a new folder (`/geosatlearn_app/ml_models/sits-bert/datafiles/california-excluded-labels/Test.csv`) to be used in pretraining experiments;"
   ]
  },
  {
   "cell_type": "markdown",
   "id": "1f6e463c",
   "metadata": {},
   "source": [
    "## Initial Setup"
   ]
  },
  {
   "cell_type": "code",
   "execution_count": 9,
   "id": "37c66751",
   "metadata": {},
   "outputs": [],
   "source": [
    "import os\n",
    "\n",
    "from tqdm.auto import tqdm"
   ]
  },
  {
   "cell_type": "markdown",
   "id": "0730573a",
   "metadata": {},
   "source": [
    "## Read from Labeled Dataset"
   ]
  },
  {
   "cell_type": "code",
   "execution_count": 10,
   "id": "ab1f6660",
   "metadata": {},
   "outputs": [
    {
     "name": "stdout",
     "output_type": "stream",
     "text": [
      ">>> Loading data successful ... 318588 lines read.\n"
     ]
    }
   ],
   "source": [
    "file_path = \"/geosatlearn_app/ml_models/sits-bert/datafiles/california-labeled/Test.csv\" \n",
    "\n",
    "# Read into memory.\n",
    "with open(file_path, \"r\") as ifile:\n",
    "    data: list[str] = ifile.readlines()\n",
    "    ts_num: list[str] = len(data)\n",
    "    print(f\">>> Loading data successful ... {ts_num} lines read.\")"
   ]
  },
  {
   "cell_type": "markdown",
   "id": "8189eb4b",
   "metadata": {},
   "source": [
    "## Drop Labels From Dataset"
   ]
  },
  {
   "cell_type": "code",
   "execution_count": 11,
   "id": "60388026",
   "metadata": {},
   "outputs": [
    {
     "name": "stderr",
     "output_type": "stream",
     "text": [
      "Processing data ...: 100%|███████████████████████████████████████████████████████████████████████████████████████████████████████████████| 318588/318588 [00:09<00:00, 32668.30it/s]\n"
     ]
    }
   ],
   "source": [
    "# All processed lines will be stored here.\n",
    "processed_data: list[str] = []\n",
    "\n",
    "# Loop over all the instances in the data.\n",
    "for line in tqdm(data, desc=\"Processing data ...\"):\n",
    "    \n",
    "    # Remove `\\n` from the end of the line.\n",
    "    line_processed: str = line.strip()\n",
    "\n",
    "    # Eliminate class label from the line.\n",
    "    line_processed_list: list[str] = line_processed.split(\",\")[:-1]\n",
    "    \n",
    "    # Join the line back together.\n",
    "    line_processed: str = \",\".join(line_processed_list)\n",
    "\n",
    "    # Fill the processed data list.\\\n",
    "    processed_data.append(line_processed)"
   ]
  },
  {
   "cell_type": "markdown",
   "id": "3dfe2661",
   "metadata": {},
   "source": [
    "## Save Final Results"
   ]
  },
  {
   "cell_type": "code",
   "execution_count": 12,
   "id": "63edcfa1",
   "metadata": {},
   "outputs": [
    {
     "name": "stderr",
     "output_type": "stream",
     "text": [
      "Saving processed data ...: 100%|████████████████████████████████████████████████████████████████████████████████████████████████████████| 318588/318588 [00:01<00:00, 281225.41it/s]\n"
     ]
    },
    {
     "name": "stdout",
     "output_type": "stream",
     "text": [
      ">>> Processed data saved to /geosatlearn_app/ml_models/sits-bert/datafiles/california-excluded-labels/Test.csv.\n",
      ">>> Total number of processed lines: 318588\n"
     ]
    }
   ],
   "source": [
    "# Output file path.\n",
    "output_file_path = \"/geosatlearn_app/ml_models/sits-bert/datafiles/california-excluded-labels/Test.csv\"\n",
    "\n",
    "# Create the output directory if it does not exist.\n",
    "output_dir = os.path.dirname(output_file_path)\n",
    "if not os.path.exists(output_dir):\n",
    "    os.makedirs(output_dir)\n",
    "    print(f\">>> Created output directory: {output_dir}\")\n",
    "\n",
    "# Save results to a new csv file.\n",
    "with open(output_file_path, \"w\") as ofile:\n",
    "    for line in tqdm(processed_data, desc=\"Saving processed data ...\"):\n",
    "        ofile.write(f\"{line}\\n\")\n",
    "\n",
    "# Show the output file path.\n",
    "print(f\">>> Processed data saved to {output_file_path}.\")\n",
    "\n",
    "# Print the number of processed lines.\n",
    "print(f\">>> Total number of processed lines: {len(processed_data)}\")"
   ]
  }
 ],
 "metadata": {
  "kernelspec": {
   "display_name": "Python 3 (ipykernel)",
   "language": "python",
   "name": "python3"
  },
  "language_info": {
   "codemirror_mode": {
    "name": "ipython",
    "version": 3
   },
   "file_extension": ".py",
   "mimetype": "text/x-python",
   "name": "python",
   "nbconvert_exporter": "python",
   "pygments_lexer": "ipython3",
   "version": "3.12.0"
  }
 },
 "nbformat": 4,
 "nbformat_minor": 5
}
