{
 "cells": [
  {
   "cell_type": "markdown",
   "id": "57c6c780",
   "metadata": {},
   "source": [
    "# Downloading Satellite Time Series"
   ]
  },
  {
   "cell_type": "markdown",
   "id": "f32c673d",
   "metadata": {},
   "source": [
    "- Main ideas:\n",
    "    1. Download a single time series for Sentinel 2 surface reflectance;"
   ]
  },
  {
   "cell_type": "markdown",
   "id": "e5deb39e",
   "metadata": {},
   "source": [
    "## Initial Setup"
   ]
  },
  {
   "cell_type": "code",
   "execution_count": 1,
   "id": "951b1fe5",
   "metadata": {},
   "outputs": [],
   "source": [
    "# Reload modules automatically before executing code.\n",
    "%load_ext autoreload\n",
    "%autoreload 2"
   ]
  }
 ],
 "metadata": {
  "kernelspec": {
   "display_name": "Python 3 (ipykernel)",
   "language": "python",
   "name": "python3"
  },
  "language_info": {
   "codemirror_mode": {
    "name": "ipython",
    "version": 3
   },
   "file_extension": ".py",
   "mimetype": "text/x-python",
   "name": "python",
   "nbconvert_exporter": "python",
   "pygments_lexer": "ipython3",
   "version": "3.12.0"
  }
 },
 "nbformat": 4,
 "nbformat_minor": 5
}
