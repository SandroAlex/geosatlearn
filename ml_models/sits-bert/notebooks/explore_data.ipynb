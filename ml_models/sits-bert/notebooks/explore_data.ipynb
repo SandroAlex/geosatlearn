{
 "cells": [
  {
   "cell_type": "markdown",
   "id": "f5a033c9",
   "metadata": {},
   "source": [
    "## Initial Setup"
   ]
  },
  {
   "cell_type": "code",
   "execution_count": 1,
   "id": "20c0ccc1",
   "metadata": {},
   "outputs": [],
   "source": [
    "# Reload modules automatically before executing code.\n",
    "%load_ext autoreload\n",
    "%autoreload 2"
   ]
  },
  {
   "cell_type": "code",
   "execution_count": null,
   "id": "d1227832",
   "metadata": {},
   "outputs": [
    {
     "name": "stdout",
     "output_type": "stream",
     "text": [
      ">>> Added /geosatlearn_app/ml_models/sits-bert to sys.path\n"
     ]
    }
   ],
   "source": [
    "# Add SITS-BERT source code for import.\n",
    "import sys\n",
    "\n",
    "path = \"/geosatlearn_app/ml_models/sits-bert\"\n",
    "if path not in sys.path:\n",
    "    sys.path.append(path)\n",
    "    print(f\">>> Added {path} to sys.path\")"
   ]
  },
  {
   "cell_type": "code",
   "execution_count": 7,
   "id": "bcaf130f",
   "metadata": {},
   "outputs": [],
   "source": [
    "# Import modules.\n",
    "import os\n",
    "\n",
    "import numpy as np\n",
    "\n",
    "from sitsbert.dataset import FineTuneDataset"
   ]
  },
  {
   "cell_type": "markdown",
   "id": "bf5f44e6",
   "metadata": {},
   "source": [
    "## Data Stucture for Fine Tuning"
   ]
  },
  {
   "cell_type": "code",
   "execution_count": 75,
   "id": "051eb1cc",
   "metadata": {},
   "outputs": [],
   "source": [
    "# Instantiate the datasets.\n",
    "train_dataset = FineTuneDataset(\n",
    "    file_path=\"/geosatlearn_app/ml_models/sits-bert/datafiles/california-labeled/train.csv\",\n",
    "    num_features=10,\n",
    "    seq_len=64\n",
    ")"
   ]
  },
  {
   "cell_type": "code",
   "execution_count": 84,
   "id": "71cafe63",
   "metadata": {},
   "outputs": [
    {
     "name": "stdout",
     "output_type": "stream",
     "text": [
      ">>> Train dataset length: 1300\n"
     ]
    }
   ],
   "source": [
    "# Data set size\n",
    "print(f\">>> Train dataset length: {len(train_dataset)}\")"
   ]
  },
  {
   "cell_type": "code",
   "execution_count": 85,
   "id": "fc8e119e",
   "metadata": {},
   "outputs": [
    {
     "data": {
      "text/plain": [
       "dict_keys(['bert_input', 'bert_mask', 'class_label', 'time'])"
      ]
     },
     "execution_count": 85,
     "metadata": {},
     "output_type": "execute_result"
    }
   ],
   "source": [
    "# Dataset instance.\n",
    "train_dataset[55].keys()"
   ]
  }
 ],
 "metadata": {
  "kernelspec": {
   "display_name": "Python 3 (ipykernel)",
   "language": "python",
   "name": "python3"
  },
  "language_info": {
   "codemirror_mode": {
    "name": "ipython",
    "version": 3
   },
   "file_extension": ".py",
   "mimetype": "text/x-python",
   "name": "python",
   "nbconvert_exporter": "python",
   "pygments_lexer": "ipython3",
   "version": "3.12.0"
  }
 },
 "nbformat": 4,
 "nbformat_minor": 5
}
